{
 "cells": [
  {
   "cell_type": "code",
   "execution_count": 1,
   "id": "091155c0",
   "metadata": {},
   "outputs": [],
   "source": [
    "from hough_functions import LineDetector\n",
    "from ultralytics import YOLO\n",
    "import csv\n",
    "import cv2\n",
    "import math"
   ]
  },
  {
   "cell_type": "code",
   "execution_count": 2,
   "id": "a4e75967",
   "metadata": {},
   "outputs": [],
   "source": [
    "def crop_image(image):\n",
    "    '''\n",
    "    :param image: An image imported through cv2.imread()\n",
    "    :return: Cropped image according to rules specified within function.\n",
    "    '''\n",
    "    # Get the dimensions of the image\n",
    "    height, width = image.shape[:2]\n",
    "\n",
    "    # Define the region of interest (ROI)\n",
    "    roi_x = 2 * width // 5  # Starting x-coordinate of the ROI (left boundary of the middle fifth)\n",
    "    roi_width = width // 5  # Width of the ROI (1/5 of the width of the image)\n",
    "\n",
    "    # Define the bottom 2/3 of the ROI\n",
    "    bottom = height # The height of the image = the bottom coordinate\n",
    "    bottom_roi_height = height//2  # Height of the bottom half\n",
    "\n",
    "    # Crop the region of interest from the image\n",
    "    roi = image[bottom_roi_height:bottom, roi_x:roi_x+roi_width]\n",
    "\n",
    "    return roi, roi_x, bottom_roi_height\n",
    "    \n",
    "def detect_lines_image(image_path, crop=True):\n",
    "    image = cv2.imread(image_path)\n",
    "    x_adj = 0\n",
    "    y_adj = 0\n",
    "    if image is None:\n",
    "        print(\"Error opening image\")\n",
    "        return\n",
    "    elif crop:\n",
    "        image, x_tmp, y_tmp = crop_image(image)\n",
    "        x_adj += x_tmp\n",
    "        y_adj += y_tmp\n",
    "    processed_image, lines = process_frame(image)\n",
    "    height, width, _ = image.shape\n",
    "    for line in lines:\n",
    "        line[0][0] += x_adj\n",
    "        line[0][1] += y_adj\n",
    "        line[0][2] += x_adj\n",
    "        line[0][3] += y_adj\n",
    "        x1, y1, x2, y2 = line[0]\n",
    "        if x2 - x1 != 0:  # Avoid division by zero\n",
    "            slope = (y2 - y1) / (x2 - x1)\n",
    "            intercept = y1 - slope * x1\n",
    "            print(f\"Line Detected with equation x = (y - {y1}) / {slope} + {x1}\")\n",
    "        else:\n",
    "            print(f\"Vertical Line Detected at x = {x1}\")\n",
    "    cv2.imwrite('hough_output_image.jpg', processed_image)\n",
    "    return lines\n",
    "\n",
    "def detect_lines_video(video_path):\n",
    "    cap = cv2.VideoCapture(video_path)\n",
    "    if not cap.isOpened():\n",
    "        print(\"Error opening video stream or file\")\n",
    "        return\n",
    "    frame_width = int(cap.get(3))\n",
    "    frame_height = int(cap.get(4))\n",
    "    out = cv2.VideoWriter('hough_output_video.mp4', cv2.VideoWriter_fourcc(*'mp4v'), 10, (frame_width, frame_height))\n",
    "    while cap.isOpened():\n",
    "        ret, frame = cap.read()\n",
    "        if ret:\n",
    "            processed_frame = process_frame(frame)\n",
    "            out.write(processed_frame)\n",
    "            if cv2.waitKey(1) & 0xFF == ord('q'):\n",
    "                break\n",
    "        else:\n",
    "            break\n",
    "    cap.release()\n",
    "    out.release()\n",
    "    cv2.destroyAllWindows()\n",
    "\n",
    "def process_frame(frame):\n",
    "    gray = cv2.cvtColor(frame, cv2.COLOR_BGR2GRAY)\n",
    "    edges = cv2.Canny(gray, 50, 150)\n",
    "    lines = cv2.HoughLinesP(edges, 1, math.pi / 180, 100, minLineLength=200, maxLineGap=10)\n",
    "    if lines is not None:\n",
    "        for line in lines:\n",
    "            x1, y1, x2, y2 = line[0]\n",
    "            cv2.line(frame, (x1, y1), (x2, y2), (0, 255, 0), 2)\n",
    "    return frame, lines"
   ]
  },
  {
   "cell_type": "code",
   "execution_count": 69,
   "id": "8b7def8e",
   "metadata": {},
   "outputs": [
    {
     "name": "stdout",
     "output_type": "stream",
     "text": [
      "Line Detected with equation x = (y - 992) / -3.769230769230769 + 826\n",
      "Line Detected with equation x = (y - 746) / 3.4871794871794872 + 1016\n"
     ]
    }
   ],
   "source": [
    "lines = detect_lines_image('skyline_icecream_truck.png', crop=True)"
   ]
  },
  {
   "cell_type": "code",
   "execution_count": 70,
   "id": "54cb6b32",
   "metadata": {},
   "outputs": [
    {
     "data": {
      "text/plain": [
       "array([[[ 826,  992,  904,  698]],\n",
       "\n",
       "       [[1016,  746, 1094, 1018]]], dtype=int32)"
      ]
     },
     "execution_count": 70,
     "metadata": {},
     "output_type": "execute_result"
    }
   ],
   "source": [
    "lines"
   ]
  },
  {
   "cell_type": "code",
   "execution_count": 71,
   "id": "c47ecb9e",
   "metadata": {},
   "outputs": [],
   "source": [
    "x1 = lines[1][0][0]\n",
    "y1 = lines[1][0][1]\n",
    "x2 = lines[1][0][2]\n",
    "y2 = lines[1][0][3]"
   ]
  },
  {
   "cell_type": "code",
   "execution_count": 72,
   "id": "ed01164e",
   "metadata": {},
   "outputs": [],
   "source": [
    "y = 620"
   ]
  },
  {
   "cell_type": "code",
   "execution_count": 73,
   "id": "4acfeda9",
   "metadata": {},
   "outputs": [
    {
     "data": {
      "text/plain": [
       "979.8676470588235"
      ]
     },
     "execution_count": 73,
     "metadata": {},
     "output_type": "execute_result"
    }
   ],
   "source": [
    "slope = (y2 - y1) / (x2 - x1)\n",
    "x = (y - y1)/slope + x1\n",
    "x"
   ]
  },
  {
   "cell_type": "code",
   "execution_count": 74,
   "id": "1556e55e",
   "metadata": {},
   "outputs": [],
   "source": [
    "def calculate_x_val(line, y):\n",
    "    '''\n",
    "    :param line: Coordinates [[x1, y1, x2, y2]] that define a line.\n",
    "    :param y: Y value of the bottom of a detected object.\n",
    "    :return: X value where object intercepts the line.\n",
    "    '''\n",
    "    x1 = line[0][0]\n",
    "    y1 = line[0][1]\n",
    "    x2 = line[0][2]\n",
    "    y2 = line[0][3]\n",
    "    slope = (y2 - y1) / (x2 - x1)\n",
    "    x = (y - y1)/slope + x1\n",
    "    return x"
   ]
  },
  {
   "cell_type": "code",
   "execution_count": 77,
   "id": "334f86bf",
   "metadata": {},
   "outputs": [
    {
     "data": {
      "text/plain": [
       "924.6938775510204"
      ]
     },
     "execution_count": 77,
     "metadata": {},
     "output_type": "execute_result"
    }
   ],
   "source": [
    "calculate_x_val(lines[0], y)"
   ]
  },
  {
   "cell_type": "code",
   "execution_count": null,
   "id": "460ab82d",
   "metadata": {},
   "outputs": [],
   "source": []
  }
 ],
 "metadata": {
  "kernelspec": {
   "display_name": "Python 3 (ipykernel)",
   "language": "python",
   "name": "python3"
  },
  "language_info": {
   "codemirror_mode": {
    "name": "ipython",
    "version": 3
   },
   "file_extension": ".py",
   "mimetype": "text/x-python",
   "name": "python",
   "nbconvert_exporter": "python",
   "pygments_lexer": "ipython3",
   "version": "3.9.13"
  }
 },
 "nbformat": 4,
 "nbformat_minor": 5
}
