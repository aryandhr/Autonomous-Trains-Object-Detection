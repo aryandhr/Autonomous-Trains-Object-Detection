{
 "cells": [
  {
   "cell_type": "code",
   "execution_count": 1,
   "id": "6d3f1fea",
   "metadata": {},
   "outputs": [],
   "source": [
    "from hough_functions import LineDetector"
   ]
  },
  {
   "cell_type": "code",
   "execution_count": 3,
   "id": "94fa8040",
   "metadata": {},
   "outputs": [
    {
     "name": "stdout",
     "output_type": "stream",
     "text": [
      "Vertical Line Detected at x = 947\n"
     ]
    }
   ],
   "source": [
    "detector = LineDetector()\n",
    "detector.detect_lines_image('skyline_icecream_truck.png')"
   ]
  },
  {
   "cell_type": "code",
   "execution_count": 3,
   "id": "356577d5",
   "metadata": {},
   "outputs": [],
   "source": [
    "# ASSUME BOTTOM OF CAR IS AT y = \n",
    "\n",
    "# Line Detected with equation y = -1.7313432835820894 * (x - 479) + 846\n",
    "# Line Detected with equation y = 1.8091286307053942 * (x - 814) + 424\n"
   ]
  }
 ],
 "metadata": {
  "kernelspec": {
   "display_name": "Python 3 (ipykernel)",
   "language": "python",
   "name": "python3"
  },
  "language_info": {
   "codemirror_mode": {
    "name": "ipython",
    "version": 3
   },
   "file_extension": ".py",
   "mimetype": "text/x-python",
   "name": "python",
   "nbconvert_exporter": "python",
   "pygments_lexer": "ipython3",
   "version": "3.9.13"
  }
 },
 "nbformat": 4,
 "nbformat_minor": 5
}
