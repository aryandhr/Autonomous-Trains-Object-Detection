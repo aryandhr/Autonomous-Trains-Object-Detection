{
 "cells": [
  {
   "cell_type": "code",
   "execution_count": 1,
   "id": "6d3f1fea",
   "metadata": {},
   "outputs": [],
   "source": [
    "from hough_functions import LineDetector\n",
    "from ultralytics import YOLO\n",
    "import csv\n",
    "import cv2"
   ]
  },
  {
   "cell_type": "code",
   "execution_count": 2,
   "id": "aeb2cb2a",
   "metadata": {},
   "outputs": [],
   "source": [
    "def calculate_x_val(line, y):\n",
    "    '''\n",
    "    :param line: Coordinates [[x1, y1, x2, y2]] that define a line.\n",
    "    :param y: Y value of the bottom of a detected object.\n",
    "    :return: X value where object intercepts the line.\n",
    "    '''\n",
    "    x1 = line[0][0]\n",
    "    y1 = line[0][1]\n",
    "    x2 = line[0][2]\n",
    "    y2 = line[0][3]\n",
    "    slope = (y2 - y1) / (x2 - x1)\n",
    "    x = (y - y1)/slope + x1\n",
    "    return x\n",
    "\n",
    "def calculate_distance(w0, w1, d0):\n",
    "    '''\n",
    "    :param w0: Width of the track in pixels at the edge of the screen (bottom)\n",
    "    :param w1: Width of the track in pixels at the bottom of the detected object\n",
    "    :param d1: Distance from the camera to w0 (in Feet)\n",
    "    :return: Distance to w1\n",
    "    '''\n",
    "    return d0 * (w0/w1)\n",
    "\n",
    "def height_width(image):\n",
    "    '''\n",
    "    :param image: An image imported through cv2.imread()\n",
    "    :return: Two ints representing the height and width of the image in pixels respectively\n",
    "    '''\n",
    "    return image.shape[:2]"
   ]
  },
  {
   "cell_type": "code",
   "execution_count": 3,
   "id": "a498839a",
   "metadata": {},
   "outputs": [
    {
     "name": "stderr",
     "output_type": "stream",
     "text": [
      "/home/matteo/anaconda3/lib/python3.9/site-packages/torch/cuda/__init__.py:141: UserWarning: CUDA initialization: CUDA unknown error - this may be due to an incorrectly set up environment, e.g. changing env variable CUDA_VISIBLE_DEVICES after program start. Setting the available devices to be zero. (Triggered internally at ../c10/cuda/CUDAFunctions.cpp:108.)\n",
      "  return torch._C._cuda_getDeviceCount() > 0\n"
     ]
    },
    {
     "name": "stdout",
     "output_type": "stream",
     "text": [
      "\n",
      "image 1/1 /home/matteo/Projects/Intramotev/YOLOv8_Hough_Combine/skyline_icecream_truck.png: 384x640 1 train, 75.7ms\n",
      "Speed: 3.9ms preprocess, 75.7ms inference, 1.9ms postprocess per image at shape (1, 3, 384, 640)\n",
      "Line Detected with equation x = (y - 992) / -3.769230769230769 + 826\n",
      "Line Detected with equation x = (y - 746) / 3.4871794871794872 + 1016\n"
     ]
    }
   ],
   "source": [
    "##########################\n",
    "\n",
    "# Detect objects and lines\n",
    "\n",
    "##########################\n",
    "\n",
    "image = cv2.imread('skyline_icecream_truck.png')\n",
    "model = YOLO('yolov8n.pt')\n",
    "results = model('skyline_icecream_truck.png')\n",
    "detector = LineDetector()\n",
    "lines = detector.detect_lines_image('skyline_icecream_truck.png', crop=True)"
   ]
  },
  {
   "cell_type": "code",
   "execution_count": 5,
   "id": "6ce83126",
   "metadata": {},
   "outputs": [],
   "source": [
    "##########################\n",
    "\n",
    "# Loop through objects\n",
    "# Calculate Distance\n",
    "# Save to CSV\n",
    "\n",
    "##########################\n",
    "\n",
    "detected_objects = results[0].boxes\n",
    "csv_file_name = 'detected_objects.csv'\n",
    "object_names = results[0].names\n",
    "with open(csv_file_name, mode='w', newline='') as file:\n",
    "    writer = csv.writer(file)\n",
    "    \n",
    "    writer.writerow(['Class ID', 'Object Name','Confidence', 'X1', 'Y1', 'X2', 'Y2','Distance'])\n",
    "\n",
    "    for box in detected_objects:\n",
    "        class_id = box.cls[0].item()\n",
    "        conf = box.conf[0].item()\n",
    "        cords = box.xyxy[0].tolist()  # formatted as [x1, y1, x2, y2]\n",
    "        object_name = object_names.get(class_id, 'Unknown')\n",
    "        \n",
    "        ##########################\n",
    "\n",
    "        # Calculate Distance\n",
    "\n",
    "        ##########################\n",
    "\n",
    "        image_height = height_width(image)[0]\n",
    "        bottom_object = cords[3]\n",
    "        x1 = calculate_x_val(lines[0], bottom_object)\n",
    "        x2 = calculate_x_val(lines[1], bottom_object)\n",
    "        x11 = calculate_x_val(lines[0], image_height)\n",
    "        x22 = calculate_x_val(lines[1], image_height)\n",
    "        # Final distance value\n",
    "        distance = calculate_distance((x22-x11), (x2-x1), 10)\n",
    "        \n",
    "        ##########################\n",
    "\n",
    "        # Write to CSV\n",
    "\n",
    "        ##########################       \n",
    "        \n",
    "        # Write the object data to the CSV file\n",
    "        writer.writerow([class_id, object_name, conf, *cords, distance])\n",
    "\n"
   ]
  },
  {
   "cell_type": "code",
   "execution_count": 6,
   "id": "17fa8bc7",
   "metadata": {},
   "outputs": [
    {
     "data": {
      "text/plain": [
       "True"
      ]
     },
     "execution_count": 6,
     "metadata": {},
     "output_type": "execute_result"
    }
   ],
   "source": [
    "##########################\n",
    "\n",
    "# Display Picture\n",
    "\n",
    "##########################\n",
    "\n",
    "detected_objects = results[0].boxes\n",
    "object_names = results[0].names\n",
    "\n",
    "# Draw bounding boxes on the image\n",
    "for box in detected_objects:\n",
    "    # Extract box coordinates\n",
    "    x1, y1, x2, y2 = box.xyxy[0].tolist()\n",
    "    # Convert coordinates to integers\n",
    "    x1, y1, x2, y2 = int(x1), int(y1), int(x2), int(y2)\n",
    "    # Get class ID and confidence\n",
    "    class_id = box.cls[0].item()\n",
    "    conf = box.conf[0].item()\n",
    "    # Get object name\n",
    "    object_name = object_names.get(class_id, 'Unknown')\n",
    "    # Draw bounding box on the image\n",
    "    cv2.rectangle(image, (x1, y1), (x2, y2), (0, 255, 0), 2)\n",
    "    # Put text showing class name and confidence\n",
    "    cv2.putText(image, f'{object_name}: {conf:.2f}', (x1, y1 - 10), cv2.FONT_HERSHEY_SIMPLEX, 0.5, (0, 255, 0), 2)\n",
    "    cv2.putText(image, f'Distance: {distance:.2f}', (x1, y2 + 20), cv2.FONT_HERSHEY_SIMPLEX, 0.5, (0, 255, 0), 2)\n",
    "    \n",
    "cv2.imwrite('processed_image.jpg', image)"
   ]
  },
  {
   "cell_type": "code",
   "execution_count": null,
   "id": "458f83e2",
   "metadata": {},
   "outputs": [],
   "source": []
  }
 ],
 "metadata": {
  "kernelspec": {
   "display_name": "Python 3 (ipykernel)",
   "language": "python",
   "name": "python3"
  },
  "language_info": {
   "codemirror_mode": {
    "name": "ipython",
    "version": 3
   },
   "file_extension": ".py",
   "mimetype": "text/x-python",
   "name": "python",
   "nbconvert_exporter": "python",
   "pygments_lexer": "ipython3",
   "version": "3.9.13"
  }
 },
 "nbformat": 4,
 "nbformat_minor": 5
}
