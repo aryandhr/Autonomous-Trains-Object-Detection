{
 "cells": [
  {
   "cell_type": "markdown",
   "id": "eb85b904",
   "metadata": {},
   "source": [
    "# YOLO Object Detection Tutorial\n",
    "\n",
    "## About YOLO\n",
    "\n",
    "YOLO (You Only Look Once) is an object detection algorithm that can detect and classify multiple objects within an image in real-time. It operates by dividing the image into a grid and predicting bounding boxes and class probabilities for each grid cell simultaneously. YOLO is known for its speed and efficiency, making it suitable for applications requiring fast object detection, such as autonomous driving and surveillance systems.\n",
    "\n",
    "## Tutorial\n",
    "\n",
    "### Part 1 - Importing/ install\n",
    "\n",
    "In order for YOLO to run locally we need to install the Ultralytics package. If your computer already has this then comment it."
   ]
  },
  {
   "cell_type": "code",
   "execution_count": 7,
   "id": "67d67793",
   "metadata": {},
   "outputs": [],
   "source": [
    "!pip install ultralytics"
   ]
  },
  {
   "cell_type": "markdown",
   "id": "a16e278e",
   "metadata": {},
   "source": [
    "Once you have installed ultralytics you can import the necessary libraries"
   ]
  },
  {
   "cell_type": "code",
   "execution_count": 5,
   "id": "b8f471ca",
   "metadata": {},
   "outputs": [],
   "source": [
    "from ultralytics import YOLO\n",
    "import csv"
   ]
  },
  {
   "cell_type": "markdown",
   "id": "63125c40",
   "metadata": {},
   "source": [
    "### Part 2 - Training YOLO\n",
    "\n",
    "YOLO is a pretrained model, however we can train on additional data to fit our specific circumstance. To do this follow the example code below that trains on a well known data set COCO. This is commented out by default as it takes several minutes to train. However, if you want to train on a new dataset simply uncomment and point to your dataset to train it."
   ]
  },
  {
   "cell_type": "code",
   "execution_count": 8,
   "id": "01a7c679",
   "metadata": {},
   "outputs": [],
   "source": [
    "model = YOLO('yolov8n.pt')\n",
    "\n",
    "#results = model.train(data='coco128.yaml', epochs=3)\n",
    "#results = model.val()"
   ]
  },
  {
   "cell_type": "markdown",
   "id": "8070f3bc",
   "metadata": {},
   "source": [
    "### Part 3 - Testing YOLO\n",
    "\n",
    "Now that we have a trained model, we can simply apply the model to any image we point to. Depending on what you train the model on, it will detect different things!\n",
    "\n",
    "#### Running Model\n",
    "\n",
    "Run the code below to apply the model to the image you point at"
   ]
  },
  {
   "cell_type": "code",
   "execution_count": 9,
   "id": "7bef2a96",
   "metadata": {},
   "outputs": [
    {
     "name": "stdout",
     "output_type": "stream",
     "text": [
      "\n",
      "Found https://ultralytics.com/images/bus.jpg locally at bus.jpg\n",
      "image 1/1 /home/matteo/Projects/Intramotev/bus.jpg: 640x480 4 persons, 1 bus, 1 stop sign, 46.1ms\n",
      "Speed: 1.8ms preprocess, 46.1ms inference, 1.2ms postprocess per image at shape (1, 3, 640, 480)\n"
     ]
    }
   ],
   "source": [
    "results = model('https://ultralytics.com/images/bus.jpg')"
   ]
  },
  {
   "cell_type": "markdown",
   "id": "f5419133",
   "metadata": {},
   "source": [
    "#### Viewing Results\n",
    "\n",
    "The code below displays the image with the detected objects"
   ]
  },
  {
   "cell_type": "code",
   "execution_count": 14,
   "id": "61ebc1a8",
   "metadata": {},
   "outputs": [
    {
     "name": "stdout",
     "output_type": "stream",
     "text": [
      "\n",
      "image 1/1 /home/matteo/Projects/Intramotev/bus.jpg: 640x480 4 persons, 1 bus, 1 stop sign, 22.8ms\n",
      "Speed: 24.5ms preprocess, 22.8ms inference, 3.9ms postprocess per image at shape (1, 3, 640, 480)\n"
     ]
    }
   ],
   "source": [
    "from PIL import Image\n",
    "\n",
    "results = model('bus.jpg')\n",
    "\n",
    "for r in results:\n",
    "    im_array = r.plot()\n",
    "    im = Image.fromarray(im_array[...,::-1])\n",
    "    im.show()\n",
    "    im.save(f'results.jpg')"
   ]
  },
  {
   "cell_type": "markdown",
   "id": "ee113f01",
   "metadata": {},
   "source": [
    "### CONGRATS!\n",
    "\n",
    "We've completed the basics of YOLO object detection with images. However there are far more possibilities and potential uses for YOLO. Highlighted below is a simple expansion to basic YOLO functionality.\n",
    "\n",
    "#### Output CSV\n",
    "\n",
    "With a little bit of work we can output a csv of the detected objects. This can be useful if building a system around the YOLO model or for other implementations"
   ]
  },
  {
   "cell_type": "code",
   "execution_count": 15,
   "id": "ddc0e34a",
   "metadata": {},
   "outputs": [],
   "source": [
    "detected_objects = results[0].boxes\n",
    "csv_file_name = 'detected_objects.csv'\n",
    "object_names = results[0].names\n",
    "with open(csv_file_name, mode='w', newline='') as file:\n",
    "    writer = csv.writer(file)\n",
    "    \n",
    "    writer.writerow(['Class ID', 'Object Name','Confidence', 'X1', 'Y1', 'X2', 'Y2'])\n",
    "\n",
    "    for box in detected_objects:\n",
    "        class_id = box.cls[0].item()\n",
    "        conf = box.conf[0].item()\n",
    "        cords = box.xyxy[0].tolist()  # formatted as [x1, y1, x2, y2]\n",
    "        object_name = object_names.get(class_id, 'Unknown')\n",
    "        \n",
    "        # Write the object data to the CSV file\n",
    "        writer.writerow([class_id, object_name, conf, *cords])"
   ]
  }
 ],
 "metadata": {
  "kernelspec": {
   "display_name": "Python 3 (ipykernel)",
   "language": "python",
   "name": "python3"
  },
  "language_info": {
   "codemirror_mode": {
    "name": "ipython",
    "version": 3
   },
   "file_extension": ".py",
   "mimetype": "text/x-python",
   "name": "python",
   "nbconvert_exporter": "python",
   "pygments_lexer": "ipython3",
   "version": "3.9.13"
  }
 },
 "nbformat": 4,
 "nbformat_minor": 5
}
