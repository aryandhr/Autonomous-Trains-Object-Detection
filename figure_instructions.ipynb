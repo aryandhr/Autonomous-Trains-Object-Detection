{
 "cells": [
  {
   "cell_type": "markdown",
   "id": "4d5c2850",
   "metadata": {
    "pycharm": {
     "name": "#%% md\n"
    }
   },
   "source": [
    "# Figure Generation Instructions\n",
    "\n",
    "## Description\n",
    "This document provides instructions for generating resutls.jpg, which illustrates the basic functionality of YOLO. This figure is used to verify that your installation of the repository and dependencies has succeeded.\n",
    "\n",
    "## Installation and Dependencies\n",
    "Before proceeding, ensure that you have installed the necessary dependencies and have access to the raw data. Please refer to the [INSTALL.md file](link_to_install_md) for instructions on installing the required software and dependencies.\n",
    "\n",
    "## Data Preparation\n",
    "There is no Data Preparation that is needed for this figure.\n",
    "\n",
    "## Intermediate Data\n",
    "There is no Intermediate Data that is needed for this figure\n",
    "\n",
    "## Code"
   ]
  },
  {
   "cell_type": "code",
   "execution_count": 3,
   "id": "e102c27e",
   "metadata": {
    "pycharm": {
     "name": "#%%\n"
    }
   },
   "outputs": [
    {
     "name": "stdout",
     "output_type": "stream",
     "text": [
      "Starting the test program...\n",
      "Importing Packages...\n",
      "Loading pre-trained model...\n",
      "Performing Model Detection!...\n",
      "\n",
      "Found https://ultralytics.com/images/bus.jpg locally at bus.jpg\n",
      "image 1/1 /home/matteo/Projects/Intramotev/bus.jpg: 640x480 4 persons, 1 bus, 1 stop sign, 10.4ms\n",
      "Speed: 3.1ms preprocess, 10.4ms inference, 1.1ms postprocess per image at shape (1, 3, 640, 480)\n",
      "Saving Image\n",
      "Program Complete! Shutting down...\n"
     ]
    }
   ],
   "source": [
    "print(\"Starting the test program...\")\n",
    "\n",
    "# Import necessary packages\n",
    "print(\"Importing Packages...\")\n",
    "from ultralytics import YOLO\n",
    "import csv\n",
    "from PIL import Image, ImageDraw\n",
    "from io import BytesIO\n",
    "import requests\n",
    "\n",
    "# Load a pretrained YOLO model (recommended for training)\n",
    "print(\"Loading pre-trained model...\")\n",
    "model = YOLO('yolov8n.pt')\n",
    "\n",
    "# Perform object detection on an image using the model\n",
    "print(\"Performing Model Detection!...\")\n",
    "results = model('https://ultralytics.com/images/bus.jpg')\n",
    "image_url = 'https://ultralytics.com/images/bus.jpg'\n",
    "response = requests.get(image_url)\n",
    "image = Image.open(BytesIO(response.content))\n",
    "\n",
    "draw = ImageDraw.Draw(image)\n",
    "\n",
    "detected_objects = results[0].boxes\n",
    "csv_file_name = 'detected_objects.csv'\n",
    "object_names = results[0].names\n",
    "with open(csv_file_name, mode='w', newline='') as file:\n",
    "    writer = csv.writer(file)\n",
    "    \n",
    "    # Write the header row\n",
    "    writer.writerow(['Class ID', 'Object Name','Confidence', 'X1', 'Y1', 'X2', 'Y2'])\n",
    "    \n",
    "    # Loop through each detected object\n",
    "    for box in detected_objects:\n",
    "        class_id = box.cls[0].item()\n",
    "        conf = box.conf[0].item()\n",
    "        cords = box.xyxy[0].tolist()  # formatted as [x1, y1, x2, y2]\n",
    "        object_name = object_names.get(class_id, 'Unknown')\n",
    "        \n",
    "        draw.rectangle(cords, outline='red', width=2)\n",
    "        \n",
    "        # Write the object data to the CSV file\n",
    "        writer.writerow([class_id, object_name, conf, *cords])\n",
    "\n",
    "print(\"Saving Image\")\n",
    "image.save('Figures/results.jpg')\n",
    "\n",
    "print(\"Program Complete! Shutting down...\")"
   ]
  },
  {
   "cell_type": "markdown",
   "id": "67f56681",
   "metadata": {
    "pycharm": {
     "name": "#%% md\n"
    }
   },
   "source": [
    "### Image Location\n",
    "\n",
    "This figure is stored in the figures folder within this repository. It is under the name \"results.jpg\""
   ]
  },
  {
   "cell_type": "code",
   "execution_count": null,
   "id": "cd96dba4",
   "metadata": {
    "pycharm": {
     "name": "#%%\n"
    }
   },
   "outputs": [],
   "source": []
  }
 ],
 "metadata": {
  "kernelspec": {
   "display_name": "Python 3 (ipykernel)",
   "language": "python",
   "name": "python3"
  },
  "language_info": {
   "codemirror_mode": {
    "name": "ipython",
    "version": 3
   },
   "file_extension": ".py",
   "mimetype": "text/x-python",
   "name": "python",
   "nbconvert_exporter": "python",
   "pygments_lexer": "ipython3",
   "version": "3.9.13"
  }
 },
 "nbformat": 4,
 "nbformat_minor": 5
}