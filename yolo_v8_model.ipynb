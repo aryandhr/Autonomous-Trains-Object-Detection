{
 "cells": [
  {
   "cell_type": "code",
   "execution_count": 1,
   "id": "dea17975-f5a7-449c-b4d2-99cf63409c88",
   "metadata": {},
   "outputs": [],
   "source": [
    "# Uncomment this code if using YOLO for the first time\n",
    "#!pip install ultralytics"
   ]
  },
  {
   "cell_type": "code",
   "execution_count": null,
   "id": "38c99e7f-3271-4ef6-ba50-39ddb567ab06",
   "metadata": {},
   "outputs": [],
   "source": [
    "from ultralytics import YOLO"
   ]
  },
  {
   "cell_type": "code",
   "execution_count": 2,
   "id": "02883c4e-f72e-43e0-95a5-7971130eb518",
   "metadata": {},
   "outputs": [],
   "source": [
    "model = YOLO(\"yolov8n.pt\")"
   ]
  },
  {
   "cell_type": "code",
   "execution_count": 3,
   "id": "bb350efd-4b98-42ed-92cf-cbe1295a54d7",
   "metadata": {},
   "outputs": [
    {
     "name": "stdout",
     "output_type": "stream",
     "text": [
      "Ultralytics YOLOv8.1.10 🚀 Python-3.11.6 torch-2.1.1+cu118 CPU (AMD EPYC 7H12 64-Core Processor)\n",
      "\u001b[34m\u001b[1mengine/trainer: \u001b[0mtask=detect, mode=train, model=yolov8n.pt, data=coco128.yaml, epochs=3, time=None, patience=50, batch=16, imgsz=640, save=True, save_period=-1, cache=False, device=None, workers=8, project=None, name=train, exist_ok=False, pretrained=True, optimizer=auto, verbose=True, seed=0, deterministic=True, single_cls=False, rect=False, cos_lr=False, close_mosaic=10, resume=False, amp=True, fraction=1.0, profile=False, freeze=None, multi_scale=False, overlap_mask=True, mask_ratio=4, dropout=0.0, val=True, split=val, save_json=False, save_hybrid=False, conf=None, iou=0.7, max_det=300, half=False, dnn=False, plots=True, source=None, vid_stride=1, stream_buffer=False, visualize=False, augment=False, agnostic_nms=False, classes=None, retina_masks=False, embed=None, show=False, save_frames=False, save_txt=False, save_conf=False, save_crop=False, show_labels=True, show_conf=True, show_boxes=True, line_width=None, format=torchscript, keras=False, optimize=False, int8=False, dynamic=False, simplify=False, opset=None, workspace=4, nms=False, lr0=0.01, lrf=0.01, momentum=0.937, weight_decay=0.0005, warmup_epochs=3.0, warmup_momentum=0.8, warmup_bias_lr=0.1, box=7.5, cls=0.5, dfl=1.5, pose=12.0, kobj=1.0, label_smoothing=0.0, nbs=64, hsv_h=0.015, hsv_s=0.7, hsv_v=0.4, degrees=0.0, translate=0.1, scale=0.5, shear=0.0, perspective=0.0, flipud=0.0, fliplr=0.5, mosaic=1.0, mixup=0.0, copy_paste=0.0, auto_augment=randaugment, erasing=0.4, crop_fraction=1.0, cfg=None, tracker=botsort.yaml, save_dir=/home/dough128/runs/detect/train\n",
      "\n",
      "Dataset 'coco128.yaml' images not found ⚠️, missing path '/home/dough128/datasets/coco128/images/train2017'\n",
      "Downloading https://ultralytics.com/assets/coco128.zip to '/home/dough128/datasets/coco128.zip'...\n"
     ]
    },
    {
     "name": "stderr",
     "output_type": "stream",
     "text": [
      "100%|██████████| 6.66M/6.66M [00:00<00:00, 142MB/s]\n",
      "Unzipping /home/dough128/datasets/coco128.zip to /home/dough128/datasets/coco128...: 100%|██████████| 263/263 [00:00<00:00, 766.42file/s]"
     ]
    },
    {
     "name": "stdout",
     "output_type": "stream",
     "text": [
      "Dataset download success ✅ (2.2s), saved to \u001b[1m/home/dough128/datasets\u001b[0m\n",
      "\n"
     ]
    },
    {
     "name": "stderr",
     "output_type": "stream",
     "text": [
      "\n"
     ]
    },
    {
     "name": "stdout",
     "output_type": "stream",
     "text": [
      "Downloading https://ultralytics.com/assets/Arial.ttf to '/home/dough128/.config/Ultralytics/Arial.ttf'...\n"
     ]
    },
    {
     "name": "stderr",
     "output_type": "stream",
     "text": [
      "100%|██████████| 755k/755k [00:00<00:00, 55.0MB/s]"
     ]
    },
    {
     "name": "stdout",
     "output_type": "stream",
     "text": [
      "\n",
      "                   from  n    params  module                                       arguments                     \n",
      "  0                  -1  1       464  ultralytics.nn.modules.conv.Conv             [3, 16, 3, 2]                 \n",
      "  1                  -1  1      4672  ultralytics.nn.modules.conv.Conv             [16, 32, 3, 2]                \n",
      "  2                  -1  1      7360  ultralytics.nn.modules.block.C2f             [32, 32, 1, True]             \n",
      "  3                  -1  1     18560  ultralytics.nn.modules.conv.Conv             [32, 64, 3, 2]                \n",
      "  4                  -1  2     49664  ultralytics.nn.modules.block.C2f             [64, 64, 2, True]             \n",
      "  5                  -1  1     73984  ultralytics.nn.modules.conv.Conv             [64, 128, 3, 2]               \n",
      "  6                  -1  2    197632  ultralytics.nn.modules.block.C2f             [128, 128, 2, True]           \n",
      "  7                  -1  1    295424  ultralytics.nn.modules.conv.Conv             [128, 256, 3, 2]              \n"
     ]
    },
    {
     "name": "stderr",
     "output_type": "stream",
     "text": [
      "\n"
     ]
    },
    {
     "name": "stdout",
     "output_type": "stream",
     "text": [
      "  8                  -1  1    460288  ultralytics.nn.modules.block.C2f             [256, 256, 1, True]           \n",
      "  9                  -1  1    164608  ultralytics.nn.modules.block.SPPF            [256, 256, 5]                 \n",
      " 10                  -1  1         0  torch.nn.modules.upsampling.Upsample         [None, 2, 'nearest']          \n",
      " 11             [-1, 6]  1         0  ultralytics.nn.modules.conv.Concat           [1]                           \n",
      " 12                  -1  1    148224  ultralytics.nn.modules.block.C2f             [384, 128, 1]                 \n",
      " 13                  -1  1         0  torch.nn.modules.upsampling.Upsample         [None, 2, 'nearest']          \n",
      " 14             [-1, 4]  1         0  ultralytics.nn.modules.conv.Concat           [1]                           \n",
      " 15                  -1  1     37248  ultralytics.nn.modules.block.C2f             [192, 64, 1]                  \n",
      " 16                  -1  1     36992  ultralytics.nn.modules.conv.Conv             [64, 64, 3, 2]                \n",
      " 17            [-1, 12]  1         0  ultralytics.nn.modules.conv.Concat           [1]                           \n",
      " 18                  -1  1    123648  ultralytics.nn.modules.block.C2f             [192, 128, 1]                 \n",
      " 19                  -1  1    147712  ultralytics.nn.modules.conv.Conv             [128, 128, 3, 2]              \n",
      " 20             [-1, 9]  1         0  ultralytics.nn.modules.conv.Concat           [1]                           \n",
      " 21                  -1  1    493056  ultralytics.nn.modules.block.C2f             [384, 256, 1]                 \n",
      " 22        [15, 18, 21]  1    897664  ultralytics.nn.modules.head.Detect           [80, [64, 128, 256]]          \n",
      "Model summary: 225 layers, 3157200 parameters, 3157184 gradients, 8.9 GFLOPs\n",
      "\n",
      "Transferred 355/355 items from pretrained weights\n",
      "Freezing layer 'model.22.dfl.conv.weight'\n"
     ]
    },
    {
     "name": "stderr",
     "output_type": "stream",
     "text": [
      "\u001b[34m\u001b[1mtrain: \u001b[0mScanning /home/dough128/datasets/coco128/labels/train2017... 126 images, 2 backgrounds, 0 corrupt: 100%|██████████| 128/128 [00:00<00:00, 1572.96it/s]"
     ]
    },
    {
     "name": "stdout",
     "output_type": "stream",
     "text": [
      "\u001b[34m\u001b[1mtrain: \u001b[0mNew cache created: /home/dough128/datasets/coco128/labels/train2017.cache\n"
     ]
    },
    {
     "name": "stderr",
     "output_type": "stream",
     "text": [
      "\n",
      "\u001b[34m\u001b[1mval: \u001b[0mScanning /home/dough128/datasets/coco128/labels/train2017.cache... 126 images, 2 backgrounds, 0 corrupt: 100%|██████████| 128/128 [00:00<?, ?it/s]\n"
     ]
    },
    {
     "name": "stdout",
     "output_type": "stream",
     "text": [
      "Plotting labels to /home/dough128/runs/detect/train/labels.jpg... \n",
      "\u001b[34m\u001b[1moptimizer:\u001b[0m 'optimizer=auto' found, ignoring 'lr0=0.01' and 'momentum=0.937' and determining best 'optimizer', 'lr0' and 'momentum' automatically... \n",
      "\u001b[34m\u001b[1moptimizer:\u001b[0m AdamW(lr=0.000119, momentum=0.9) with parameter groups 57 weight(decay=0.0), 64 weight(decay=0.0005), 63 bias(decay=0.0)\n",
      "Image sizes 640 train, 640 val\n",
      "Using 0 dataloader workers\n",
      "Logging results to \u001b[1m/home/dough128/runs/detect/train\u001b[0m\n",
      "Starting training for 3 epochs...\n",
      "\n",
      "      Epoch    GPU_mem   box_loss   cls_loss   dfl_loss  Instances       Size\n"
     ]
    },
    {
     "name": "stderr",
     "output_type": "stream",
     "text": [
      "        1/3         0G      1.096      1.365      1.202        201        640: 100%|██████████| 8/8 [05:25<00:00, 40.64s/it]\n",
      "                 Class     Images  Instances      Box(P          R      mAP50  mAP50-95): 100%|██████████| 4/4 [01:19<00:00, 19.93s/it]"
     ]
    },
    {
     "name": "stdout",
     "output_type": "stream",
     "text": [
      "                   all        128        929      0.658      0.532      0.615      0.457\n"
     ]
    },
    {
     "name": "stderr",
     "output_type": "stream",
     "text": [
      "\n"
     ]
    },
    {
     "name": "stdout",
     "output_type": "stream",
     "text": [
      "\n",
      "      Epoch    GPU_mem   box_loss   cls_loss   dfl_loss  Instances       Size\n"
     ]
    },
    {
     "name": "stderr",
     "output_type": "stream",
     "text": [
      "        2/3         0G      1.216      1.443      1.268        136        640: 100%|██████████| 8/8 [04:51<00:00, 36.41s/it]\n",
      "                 Class     Images  Instances      Box(P          R      mAP50  mAP50-95): 100%|██████████| 4/4 [01:08<00:00, 17.05s/it]"
     ]
    },
    {
     "name": "stdout",
     "output_type": "stream",
     "text": [
      "                   all        128        929      0.672      0.542      0.628      0.466\n"
     ]
    },
    {
     "name": "stderr",
     "output_type": "stream",
     "text": [
      "\n"
     ]
    },
    {
     "name": "stdout",
     "output_type": "stream",
     "text": [
      "\n",
      "      Epoch    GPU_mem   box_loss   cls_loss   dfl_loss  Instances       Size\n"
     ]
    },
    {
     "name": "stderr",
     "output_type": "stream",
     "text": [
      "        3/3         0G      1.193      1.342      1.243        206        640: 100%|██████████| 8/8 [04:42<00:00, 35.32s/it]\n",
      "                 Class     Images  Instances      Box(P          R      mAP50  mAP50-95): 100%|██████████| 4/4 [01:07<00:00, 16.90s/it]"
     ]
    },
    {
     "name": "stdout",
     "output_type": "stream",
     "text": [
      "                   all        128        929       0.69      0.532      0.631      0.468\n"
     ]
    },
    {
     "name": "stderr",
     "output_type": "stream",
     "text": [
      "\n"
     ]
    },
    {
     "name": "stdout",
     "output_type": "stream",
     "text": [
      "\n",
      "3 epochs completed in 0.313 hours.\n",
      "Optimizer stripped from /home/dough128/runs/detect/train/weights/last.pt, 6.5MB\n",
      "Optimizer stripped from /home/dough128/runs/detect/train/weights/best.pt, 6.5MB\n",
      "\n",
      "Validating /home/dough128/runs/detect/train/weights/best.pt...\n",
      "Ultralytics YOLOv8.1.10 🚀 Python-3.11.6 torch-2.1.1+cu118 CPU (AMD EPYC 7H12 64-Core Processor)\n",
      "Model summary (fused): 168 layers, 3151904 parameters, 0 gradients, 8.7 GFLOPs\n"
     ]
    },
    {
     "name": "stderr",
     "output_type": "stream",
     "text": [
      "                 Class     Images  Instances      Box(P          R      mAP50  mAP50-95): 100%|██████████| 4/4 [00:50<00:00, 12.63s/it]\n"
     ]
    },
    {
     "name": "stdout",
     "output_type": "stream",
     "text": [
      "                   all        128        929      0.691      0.531      0.631      0.469\n",
      "                person        128        254      0.818      0.655      0.764      0.538\n",
      "               bicycle        128          6      0.663      0.329      0.331       0.26\n",
      "                   car        128         46      0.867      0.217      0.279      0.174\n",
      "            motorcycle        128          5      0.678      0.847      0.938      0.743\n",
      "              airplane        128          6      0.817      0.752      0.927      0.687\n",
      "                   bus        128          7      0.753      0.714      0.728      0.671\n",
      "                 train        128          3      0.565      0.667       0.83      0.681\n",
      "                 truck        128         12          1      0.327      0.522      0.328\n",
      "                  boat        128          6      0.299      0.167       0.36      0.233\n",
      "         traffic light        128         14      0.738      0.204      0.201      0.138\n",
      "             stop sign        128          2          1      0.971      0.995      0.707\n",
      "                 bench        128          9      0.815      0.494      0.633      0.382\n",
      "                  bird        128         16      0.911      0.625      0.894      0.556\n",
      "                   cat        128          4      0.876          1      0.995      0.791\n",
      "                   dog        128          9      0.658      0.889      0.871      0.648\n",
      "                 horse        128          2      0.574          1      0.995      0.518\n",
      "              elephant        128         17      0.848      0.824      0.918      0.674\n",
      "                  bear        128          1      0.624          1      0.995      0.895\n",
      "                 zebra        128          4      0.865          1      0.995      0.965\n",
      "               giraffe        128          9      0.898       0.98      0.973      0.713\n",
      "              backpack        128          6      0.648      0.333      0.379       0.22\n",
      "              umbrella        128         18      0.814        0.5      0.668      0.465\n",
      "               handbag        128         19          1          0      0.207      0.126\n",
      "                   tie        128          7       0.83        0.7      0.677      0.495\n",
      "              suitcase        128          4       0.61      0.787      0.828      0.592\n",
      "               frisbee        128          5       0.63        0.8       0.76      0.664\n",
      "                  skis        128          1      0.746          1      0.995      0.497\n",
      "             snowboard        128          7       0.75      0.714      0.755      0.492\n",
      "           sports ball        128          6      0.689      0.378      0.502      0.274\n",
      "                  kite        128         10      0.805      0.415      0.588      0.203\n",
      "          baseball bat        128          4       0.45       0.25      0.378      0.187\n",
      "        baseball glove        128          7      0.679      0.429      0.429      0.294\n",
      "            skateboard        128          5      0.811        0.6      0.599      0.446\n",
      "         tennis racket        128          7      0.695      0.334      0.502      0.365\n",
      "                bottle        128         18      0.508      0.344      0.366      0.219\n",
      "            wine glass        128         16      0.795      0.487       0.61      0.363\n",
      "                   cup        128         36      0.651       0.26      0.402      0.289\n",
      "                  fork        128          6      0.609      0.167      0.294      0.205\n",
      "                 knife        128         16      0.745      0.549      0.628      0.362\n",
      "                 spoon        128         22      0.511      0.191      0.349      0.182\n",
      "                  bowl        128         28      0.693      0.679      0.641      0.528\n",
      "                banana        128          1          0          0      0.111     0.0369\n",
      "              sandwich        128          2      0.323        0.5      0.695      0.695\n",
      "                orange        128          4          1      0.334      0.995      0.666\n",
      "              broccoli        128         11      0.396      0.182      0.254      0.213\n",
      "                carrot        128         24      0.818      0.458      0.673      0.434\n",
      "               hot dog        128          2      0.634          1      0.828      0.795\n",
      "                 pizza        128          5      0.791          1      0.995      0.843\n",
      "                 donut        128         14       0.65          1      0.926       0.84\n",
      "                  cake        128          4      0.725          1      0.995       0.88\n",
      "                 chair        128         35      0.565      0.514      0.462       0.26\n",
      "                 couch        128          6      0.423      0.333      0.614      0.469\n",
      "          potted plant        128         14      0.818      0.643      0.722      0.498\n",
      "                   bed        128          3      0.793      0.667      0.775      0.676\n",
      "          dining table        128         13      0.512      0.615      0.514       0.41\n",
      "                toilet        128          2      0.644        0.5      0.745      0.721\n",
      "                    tv        128          2      0.543       0.63      0.828      0.762\n",
      "                laptop        128          3          1          0      0.665      0.522\n",
      "                 mouse        128          2          1          0     0.0443    0.00443\n",
      "                remote        128          8      0.874        0.5      0.578      0.502\n",
      "            cell phone        128          8          0          0     0.0582     0.0384\n",
      "             microwave        128          3        0.6      0.667       0.83      0.699\n",
      "                  oven        128          5      0.456        0.4      0.343      0.272\n",
      "                  sink        128          6      0.372      0.167      0.203      0.125\n",
      "          refrigerator        128          5      0.667        0.4       0.65      0.522\n",
      "                  book        128         29      0.619      0.113      0.355       0.18\n",
      "                 clock        128          9      0.778      0.781      0.891      0.721\n",
      "                  vase        128          2      0.411          1      0.828      0.795\n",
      "              scissors        128          1          1          0      0.249     0.0746\n",
      "            teddy bear        128         21      0.939      0.333      0.636      0.429\n",
      "            toothbrush        128          5      0.747        0.4      0.672      0.424\n",
      "Speed: 4.8ms preprocess, 341.9ms inference, 0.0ms loss, 38.4ms postprocess per image\n",
      "Results saved to \u001b[1m/home/dough128/runs/detect/train\u001b[0m\n",
      "Ultralytics YOLOv8.1.10 🚀 Python-3.11.6 torch-2.1.1+cu118 CPU (AMD EPYC 7H12 64-Core Processor)\n",
      "Model summary (fused): 168 layers, 3151904 parameters, 0 gradients, 8.7 GFLOPs\n"
     ]
    },
    {
     "name": "stderr",
     "output_type": "stream",
     "text": [
      "\u001b[34m\u001b[1mval: \u001b[0mScanning /home/dough128/datasets/coco128/labels/train2017.cache... 126 images, 2 backgrounds, 0 corrupt: 100%|██████████| 128/128 [00:00<?, ?it/s]\n",
      "                 Class     Images  Instances      Box(P          R      mAP50  mAP50-95): 100%|██████████| 8/8 [01:10<00:00,  8.76s/it]\n"
     ]
    },
    {
     "name": "stdout",
     "output_type": "stream",
     "text": [
      "                   all        128        929      0.677      0.547      0.626      0.463\n",
      "                person        128        254      0.805      0.665      0.766      0.539\n",
      "               bicycle        128          6      0.499      0.333      0.328      0.258\n",
      "                   car        128         46      0.816      0.217      0.279      0.174\n",
      "            motorcycle        128          5      0.684      0.874      0.938      0.743\n",
      "              airplane        128          6       0.82      0.767      0.927      0.687\n",
      "                   bus        128          7       0.74      0.714      0.728      0.671\n",
      "                 train        128          3      0.555      0.667       0.83      0.681\n",
      "                 truck        128         12          1      0.371      0.496      0.286\n",
      "                  boat        128          6      0.238      0.167      0.327      0.205\n",
      "         traffic light        128         14      0.738      0.204      0.201      0.138\n",
      "             stop sign        128          2          1      0.989      0.995      0.708\n",
      "                 bench        128          9      0.825      0.526      0.632      0.382\n",
      "                  bird        128         16       0.85      0.708      0.884      0.549\n",
      "                   cat        128          4      0.867          1      0.995      0.791\n",
      "                   dog        128          9      0.649      0.889      0.871      0.648\n",
      "                 horse        128          2      0.513          1      0.995      0.518\n",
      "              elephant        128         17      0.825      0.829      0.918      0.674\n",
      "                  bear        128          1      0.609          1      0.995      0.895\n",
      "                 zebra        128          4       0.86          1      0.995      0.965\n",
      "               giraffe        128          9      0.807      0.935      0.951      0.753\n",
      "              backpack        128          6      0.629      0.333      0.379      0.231\n",
      "              umbrella        128         18      0.703        0.5      0.663      0.462\n",
      "               handbag        128         19          1     0.0683      0.206      0.126\n",
      "                   tie        128          7      0.827      0.714      0.677      0.495\n",
      "              suitcase        128          4      0.662          1      0.828      0.592\n",
      "               frisbee        128          5      0.604        0.8      0.759      0.664\n",
      "                  skis        128          1      0.627          1      0.995      0.497\n",
      "             snowboard        128          7      0.727      0.714      0.755      0.491\n",
      "           sports ball        128          6      0.698      0.396      0.502      0.274\n",
      "                  kite        128         10      0.824      0.472      0.589      0.204\n",
      "          baseball bat        128          4      0.526       0.25      0.353      0.199\n",
      "        baseball glove        128          7      0.641      0.429      0.429      0.316\n",
      "            skateboard        128          5      0.863        0.6      0.599       0.44\n",
      "         tennis racket        128          7      0.708      0.357      0.502      0.337\n",
      "                bottle        128         18      0.524      0.369      0.368      0.217\n",
      "            wine glass        128         16      0.776      0.433      0.569      0.354\n",
      "                   cup        128         36      0.671      0.278      0.419      0.302\n",
      "                  fork        128          6      0.584      0.167      0.236      0.183\n",
      "                 knife        128         16       0.65      0.562      0.607      0.353\n",
      "                 spoon        128         22      0.595      0.202      0.351      0.197\n",
      "                  bowl        128         28      0.681      0.687      0.667      0.517\n",
      "                banana        128          1          0          0     0.0829     0.0344\n",
      "              sandwich        128          2      0.323        0.5      0.308      0.308\n",
      "                orange        128          4          1      0.371      0.995      0.666\n",
      "              broccoli        128         11      0.358      0.182      0.263      0.214\n",
      "                carrot        128         24      0.736       0.58      0.669      0.428\n",
      "               hot dog        128          2      0.658      0.974      0.828      0.828\n",
      "                 pizza        128          5      0.858          1      0.995      0.843\n",
      "                 donut        128         14      0.647          1      0.926      0.841\n",
      "                  cake        128          4      0.612          1      0.995       0.88\n",
      "                 chair        128         35       0.54      0.514      0.451      0.249\n",
      "                 couch        128          6      0.524        0.5      0.715      0.553\n",
      "          potted plant        128         14      0.784      0.643      0.722      0.498\n",
      "                   bed        128          3      0.764      0.667      0.863      0.655\n",
      "          dining table        128         13      0.465      0.538      0.486      0.387\n",
      "                toilet        128          2      0.629        0.5      0.745      0.721\n",
      "                    tv        128          2      0.563       0.69      0.828      0.762\n",
      "                laptop        128          3          1          0        0.6       0.48\n",
      "                 mouse        128          2          1          0     0.0683    0.00683\n",
      "                remote        128          8      0.858        0.5      0.613      0.523\n",
      "            cell phone        128          8          0          0     0.0576     0.0383\n",
      "             microwave        128          3      0.566      0.667       0.83      0.683\n",
      "                  oven        128          5      0.459        0.4      0.343      0.272\n",
      "                  sink        128          6      0.383      0.167      0.166      0.104\n",
      "          refrigerator        128          5      0.638        0.4      0.654      0.506\n",
      "                  book        128         29      0.638      0.123      0.376      0.201\n",
      "                 clock        128          9      0.782      0.798      0.892      0.722\n",
      "                  vase        128          2      0.367          1      0.828      0.795\n",
      "              scissors        128          1          1          0      0.249     0.0746\n",
      "            teddy bear        128         21       0.92      0.333      0.632      0.426\n",
      "            toothbrush        128          5      0.745        0.6      0.743      0.478\n",
      "Speed: 2.2ms preprocess, 488.7ms inference, 0.0ms loss, 41.4ms postprocess per image\n",
      "Results saved to \u001b[1m/home/dough128/runs/detect/train2\u001b[0m\n",
      "\n",
      "Downloading https://ultralytics.com/images/bus.jpg to 'bus.jpg'...\n"
     ]
    },
    {
     "name": "stderr",
     "output_type": "stream",
     "text": [
      "100%|██████████| 476k/476k [00:00<00:00, 31.8MB/s]\n"
     ]
    },
    {
     "name": "stdout",
     "output_type": "stream",
     "text": [
      "image 1/1 /home/dough128/CMSE495/Intramotev/bus.jpg: 640x480 4 persons, 1 bus, 1 stop sign, 3429.8ms\n",
      "Speed: 3.8ms preprocess, 3429.8ms inference, 1.2ms postprocess per image at shape (1, 3, 640, 480)\n",
      "Ultralytics YOLOv8.1.10 🚀 Python-3.11.6 torch-2.1.1+cu118 CPU (AMD EPYC 7H12 64-Core Processor)\n",
      "\n",
      "\u001b[34m\u001b[1mPyTorch:\u001b[0m starting from '/home/dough128/runs/detect/train/weights/best.pt' with input shape (1, 3, 640, 640) BCHW and output shape(s) (1, 84, 8400) (6.2 MB)\n",
      "\u001b[31m\u001b[1mrequirements:\u001b[0m Ultralytics requirement ['onnx>=1.12.0'] not found, attempting AutoUpdate...\n",
      "\u001b[31m\u001b[1mrequirements:\u001b[0m ❌ AutoUpdate skipped (offline)\n",
      "\u001b[34m\u001b[1mONNX:\u001b[0m export failure ❌ 6.1s: No module named 'onnx'\n"
     ]
    },
    {
     "ename": "ModuleNotFoundError",
     "evalue": "No module named 'onnx'",
     "output_type": "error",
     "traceback": [
      "\u001b[0;31m---------------------------------------------------------------------------\u001b[0m",
      "\u001b[0;31mModuleNotFoundError\u001b[0m                       Traceback (most recent call last)",
      "Cell \u001b[0;32mIn[3], line 10\u001b[0m\n\u001b[1;32m      7\u001b[0m results \u001b[38;5;241m=\u001b[39m model(\u001b[38;5;124m'\u001b[39m\u001b[38;5;124mhttps://ultralytics.com/images/bus.jpg\u001b[39m\u001b[38;5;124m'\u001b[39m)\n\u001b[1;32m      9\u001b[0m \u001b[38;5;66;03m# Export the model to ONNX format\u001b[39;00m\n\u001b[0;32m---> 10\u001b[0m success \u001b[38;5;241m=\u001b[39m \u001b[43mmodel\u001b[49m\u001b[38;5;241;43m.\u001b[39;49m\u001b[43mexport\u001b[49m\u001b[43m(\u001b[49m\u001b[38;5;28;43mformat\u001b[39;49m\u001b[38;5;241;43m=\u001b[39;49m\u001b[38;5;124;43m'\u001b[39;49m\u001b[38;5;124;43monnx\u001b[39;49m\u001b[38;5;124;43m'\u001b[39;49m\u001b[43m)\u001b[49m\n",
      "File \u001b[0;32m~/.local/lib/python3.11/site-packages/ultralytics/engine/model.py:538\u001b[0m, in \u001b[0;36mModel.export\u001b[0;34m(self, **kwargs)\u001b[0m\n\u001b[1;32m    536\u001b[0m custom \u001b[38;5;241m=\u001b[39m {\u001b[38;5;124m\"\u001b[39m\u001b[38;5;124mimgsz\u001b[39m\u001b[38;5;124m\"\u001b[39m: \u001b[38;5;28mself\u001b[39m\u001b[38;5;241m.\u001b[39mmodel\u001b[38;5;241m.\u001b[39margs[\u001b[38;5;124m\"\u001b[39m\u001b[38;5;124mimgsz\u001b[39m\u001b[38;5;124m\"\u001b[39m], \u001b[38;5;124m\"\u001b[39m\u001b[38;5;124mbatch\u001b[39m\u001b[38;5;124m\"\u001b[39m: \u001b[38;5;241m1\u001b[39m, \u001b[38;5;124m\"\u001b[39m\u001b[38;5;124mdata\u001b[39m\u001b[38;5;124m\"\u001b[39m: \u001b[38;5;28;01mNone\u001b[39;00m, \u001b[38;5;124m\"\u001b[39m\u001b[38;5;124mverbose\u001b[39m\u001b[38;5;124m\"\u001b[39m: \u001b[38;5;28;01mFalse\u001b[39;00m}  \u001b[38;5;66;03m# method defaults\u001b[39;00m\n\u001b[1;32m    537\u001b[0m args \u001b[38;5;241m=\u001b[39m {\u001b[38;5;241m*\u001b[39m\u001b[38;5;241m*\u001b[39m\u001b[38;5;28mself\u001b[39m\u001b[38;5;241m.\u001b[39moverrides, \u001b[38;5;241m*\u001b[39m\u001b[38;5;241m*\u001b[39mcustom, \u001b[38;5;241m*\u001b[39m\u001b[38;5;241m*\u001b[39mkwargs, \u001b[38;5;124m\"\u001b[39m\u001b[38;5;124mmode\u001b[39m\u001b[38;5;124m\"\u001b[39m: \u001b[38;5;124m\"\u001b[39m\u001b[38;5;124mexport\u001b[39m\u001b[38;5;124m\"\u001b[39m}  \u001b[38;5;66;03m# highest priority args on the right\u001b[39;00m\n\u001b[0;32m--> 538\u001b[0m \u001b[38;5;28;01mreturn\u001b[39;00m \u001b[43mExporter\u001b[49m\u001b[43m(\u001b[49m\u001b[43moverrides\u001b[49m\u001b[38;5;241;43m=\u001b[39;49m\u001b[43margs\u001b[49m\u001b[43m,\u001b[49m\u001b[43m \u001b[49m\u001b[43m_callbacks\u001b[49m\u001b[38;5;241;43m=\u001b[39;49m\u001b[38;5;28;43mself\u001b[39;49m\u001b[38;5;241;43m.\u001b[39;49m\u001b[43mcallbacks\u001b[49m\u001b[43m)\u001b[49m\u001b[43m(\u001b[49m\u001b[43mmodel\u001b[49m\u001b[38;5;241;43m=\u001b[39;49m\u001b[38;5;28;43mself\u001b[39;49m\u001b[38;5;241;43m.\u001b[39;49m\u001b[43mmodel\u001b[49m\u001b[43m)\u001b[49m\n",
      "File \u001b[0;32m~/.local/lib/python3.11/site-packages/ultralytics/engine/exporter.py:277\u001b[0m, in \u001b[0;36mExporter.__call__\u001b[0;34m(self, model)\u001b[0m\n\u001b[1;32m    275\u001b[0m     f[\u001b[38;5;241m1\u001b[39m], _ \u001b[38;5;241m=\u001b[39m \u001b[38;5;28mself\u001b[39m\u001b[38;5;241m.\u001b[39mexport_engine()\n\u001b[1;32m    276\u001b[0m \u001b[38;5;28;01mif\u001b[39;00m onnx \u001b[38;5;129;01mor\u001b[39;00m xml:  \u001b[38;5;66;03m# OpenVINO requires ONNX\u001b[39;00m\n\u001b[0;32m--> 277\u001b[0m     f[\u001b[38;5;241m2\u001b[39m], _ \u001b[38;5;241m=\u001b[39m \u001b[38;5;28;43mself\u001b[39;49m\u001b[38;5;241;43m.\u001b[39;49m\u001b[43mexport_onnx\u001b[49m\u001b[43m(\u001b[49m\u001b[43m)\u001b[49m\n\u001b[1;32m    278\u001b[0m \u001b[38;5;28;01mif\u001b[39;00m xml:  \u001b[38;5;66;03m# OpenVINO\u001b[39;00m\n\u001b[1;32m    279\u001b[0m     f[\u001b[38;5;241m3\u001b[39m], _ \u001b[38;5;241m=\u001b[39m \u001b[38;5;28mself\u001b[39m\u001b[38;5;241m.\u001b[39mexport_openvino()\n",
      "File \u001b[0;32m~/.local/lib/python3.11/site-packages/ultralytics/engine/exporter.py:136\u001b[0m, in \u001b[0;36mtry_export.<locals>.outer_func\u001b[0;34m(*args, **kwargs)\u001b[0m\n\u001b[1;32m    134\u001b[0m \u001b[38;5;28;01mexcept\u001b[39;00m \u001b[38;5;167;01mException\u001b[39;00m \u001b[38;5;28;01mas\u001b[39;00m e:\n\u001b[1;32m    135\u001b[0m     LOGGER\u001b[38;5;241m.\u001b[39minfo(\u001b[38;5;124mf\u001b[39m\u001b[38;5;124m\"\u001b[39m\u001b[38;5;132;01m{\u001b[39;00mprefix\u001b[38;5;132;01m}\u001b[39;00m\u001b[38;5;124m export failure ❌ \u001b[39m\u001b[38;5;132;01m{\u001b[39;00mdt\u001b[38;5;241m.\u001b[39mt\u001b[38;5;132;01m:\u001b[39;00m\u001b[38;5;124m.1f\u001b[39m\u001b[38;5;132;01m}\u001b[39;00m\u001b[38;5;124ms: \u001b[39m\u001b[38;5;132;01m{\u001b[39;00me\u001b[38;5;132;01m}\u001b[39;00m\u001b[38;5;124m\"\u001b[39m)\n\u001b[0;32m--> 136\u001b[0m     \u001b[38;5;28;01mraise\u001b[39;00m e\n",
      "File \u001b[0;32m~/.local/lib/python3.11/site-packages/ultralytics/engine/exporter.py:131\u001b[0m, in \u001b[0;36mtry_export.<locals>.outer_func\u001b[0;34m(*args, **kwargs)\u001b[0m\n\u001b[1;32m    129\u001b[0m \u001b[38;5;28;01mtry\u001b[39;00m:\n\u001b[1;32m    130\u001b[0m     \u001b[38;5;28;01mwith\u001b[39;00m Profile() \u001b[38;5;28;01mas\u001b[39;00m dt:\n\u001b[0;32m--> 131\u001b[0m         f, model \u001b[38;5;241m=\u001b[39m \u001b[43minner_func\u001b[49m\u001b[43m(\u001b[49m\u001b[38;5;241;43m*\u001b[39;49m\u001b[43margs\u001b[49m\u001b[43m,\u001b[49m\u001b[43m \u001b[49m\u001b[38;5;241;43m*\u001b[39;49m\u001b[38;5;241;43m*\u001b[39;49m\u001b[43mkwargs\u001b[49m\u001b[43m)\u001b[49m\n\u001b[1;32m    132\u001b[0m     LOGGER\u001b[38;5;241m.\u001b[39minfo(\u001b[38;5;124mf\u001b[39m\u001b[38;5;124m\"\u001b[39m\u001b[38;5;132;01m{\u001b[39;00mprefix\u001b[38;5;132;01m}\u001b[39;00m\u001b[38;5;124m export success ✅ \u001b[39m\u001b[38;5;132;01m{\u001b[39;00mdt\u001b[38;5;241m.\u001b[39mt\u001b[38;5;132;01m:\u001b[39;00m\u001b[38;5;124m.1f\u001b[39m\u001b[38;5;132;01m}\u001b[39;00m\u001b[38;5;124ms, saved as \u001b[39m\u001b[38;5;124m'\u001b[39m\u001b[38;5;132;01m{\u001b[39;00mf\u001b[38;5;132;01m}\u001b[39;00m\u001b[38;5;124m'\u001b[39m\u001b[38;5;124m (\u001b[39m\u001b[38;5;132;01m{\u001b[39;00mfile_size(f)\u001b[38;5;132;01m:\u001b[39;00m\u001b[38;5;124m.1f\u001b[39m\u001b[38;5;132;01m}\u001b[39;00m\u001b[38;5;124m MB)\u001b[39m\u001b[38;5;124m\"\u001b[39m)\n\u001b[1;32m    133\u001b[0m     \u001b[38;5;28;01mreturn\u001b[39;00m f, model\n",
      "File \u001b[0;32m~/.local/lib/python3.11/site-packages/ultralytics/engine/exporter.py:347\u001b[0m, in \u001b[0;36mExporter.export_onnx\u001b[0;34m(self, prefix)\u001b[0m\n\u001b[1;32m    345\u001b[0m     requirements \u001b[38;5;241m+\u001b[39m\u001b[38;5;241m=\u001b[39m [\u001b[38;5;124m\"\u001b[39m\u001b[38;5;124monnxsim>=0.4.33\u001b[39m\u001b[38;5;124m\"\u001b[39m, \u001b[38;5;124m\"\u001b[39m\u001b[38;5;124monnxruntime-gpu\u001b[39m\u001b[38;5;124m\"\u001b[39m \u001b[38;5;28;01mif\u001b[39;00m torch\u001b[38;5;241m.\u001b[39mcuda\u001b[38;5;241m.\u001b[39mis_available() \u001b[38;5;28;01melse\u001b[39;00m \u001b[38;5;124m\"\u001b[39m\u001b[38;5;124monnxruntime\u001b[39m\u001b[38;5;124m\"\u001b[39m]\n\u001b[1;32m    346\u001b[0m check_requirements(requirements)\n\u001b[0;32m--> 347\u001b[0m \u001b[38;5;28;01mimport\u001b[39;00m \u001b[38;5;21;01monnx\u001b[39;00m  \u001b[38;5;66;03m# noqa\u001b[39;00m\n\u001b[1;32m    349\u001b[0m opset_version \u001b[38;5;241m=\u001b[39m \u001b[38;5;28mself\u001b[39m\u001b[38;5;241m.\u001b[39margs\u001b[38;5;241m.\u001b[39mopset \u001b[38;5;129;01mor\u001b[39;00m get_latest_opset()\n\u001b[1;32m    350\u001b[0m LOGGER\u001b[38;5;241m.\u001b[39minfo(\u001b[38;5;124mf\u001b[39m\u001b[38;5;124m\"\u001b[39m\u001b[38;5;130;01m\\n\u001b[39;00m\u001b[38;5;132;01m{\u001b[39;00mprefix\u001b[38;5;132;01m}\u001b[39;00m\u001b[38;5;124m starting export with onnx \u001b[39m\u001b[38;5;132;01m{\u001b[39;00monnx\u001b[38;5;241m.\u001b[39m__version__\u001b[38;5;132;01m}\u001b[39;00m\u001b[38;5;124m opset \u001b[39m\u001b[38;5;132;01m{\u001b[39;00mopset_version\u001b[38;5;132;01m}\u001b[39;00m\u001b[38;5;124m...\u001b[39m\u001b[38;5;124m\"\u001b[39m)\n",
      "\u001b[0;31mModuleNotFoundError\u001b[0m: No module named 'onnx'"
     ]
    }
   ],
   "source": [
    "results = model.train(data='coco128.yaml', epochs=3)\n",
    "\n",
    "# Evaluate the model's performance on the validation set\n",
    "results = model.val()\n",
    "\n",
    "# Perform object detection on an image using the model\n",
    "results = model('https://ultralytics.com/images/bus.jpg')\n",
    "\n",
    "# Export the model to ONNX format\n",
    "success = model.export(format='onnx')"
   ]
  },
  {
   "cell_type": "markdown",
   "id": "5aed0444-c9d2-4e7b-b4cf-4f4bc26b799c",
   "metadata": {},
   "source": [
    "# Ultralytics docs: https://docs.ultralytics.com/"
   ]
  },
  {
   "cell_type": "code",
   "execution_count": null,
   "id": "1392d7c8-1a6b-43d7-b58a-fe0e9c7dbc4d",
   "metadata": {},
   "outputs": [],
   "source": []
  }
 ],
 "metadata": {
  "kernelspec": {
   "display_name": "Python 3.11 (default)",
   "language": "python",
   "name": "python3"
  },
  "language_info": {
   "codemirror_mode": {
    "name": "ipython",
    "version": 3
   },
   "file_extension": ".py",
   "mimetype": "text/x-python",
   "name": "python",
   "nbconvert_exporter": "python",
   "pygments_lexer": "ipython3",
   "version": "3.11.6"
  }
 },
 "nbformat": 4,
 "nbformat_minor": 5
}
