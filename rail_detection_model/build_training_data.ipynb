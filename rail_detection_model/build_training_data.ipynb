{
 "cells": [
  {
   "cell_type": "code",
   "execution_count": 1,
   "id": "cec3f15a",
   "metadata": {},
   "outputs": [],
   "source": [
    "import os\n",
    "import json\n",
    "import cv2\n",
    "import numpy as np"
   ]
  },
  {
   "cell_type": "code",
   "execution_count": 2,
   "id": "38ae3cc2",
   "metadata": {},
   "outputs": [],
   "source": [
    "json_dir = 'rs00000.json'\n",
    "img_dir = 'rs00000.jpg'"
   ]
  },
  {
   "cell_type": "code",
   "execution_count": 6,
   "id": "a1827e78",
   "metadata": {},
   "outputs": [],
   "source": [
    "# READ IN THE JSON\n",
    "\n",
    "with open(json_dir) as f:\n",
    "    json_data = json.load(f)"
   ]
  },
  {
   "cell_type": "code",
   "execution_count": 8,
   "id": "620ae98b",
   "metadata": {},
   "outputs": [],
   "source": [
    "image = cv2.imread(img_dir)"
   ]
  },
  {
   "cell_type": "code",
   "execution_count": 12,
   "id": "760f46fd",
   "metadata": {},
   "outputs": [],
   "source": [
    "annotations = []\n",
    "training_samples = []"
   ]
  },
  {
   "cell_type": "code",
   "execution_count": 13,
   "id": "56701166",
   "metadata": {},
   "outputs": [],
   "source": [
    "for obj in json_data['objects']:\n",
    "    label = obj['label']\n",
    "    if 'boundingbox' in obj:\n",
    "        bbox = np.array(obj['boundingbox'])\n",
    "        # Process bounding box\n",
    "        # (e.g., convert to normalized coordinates or pixel coordinates)\n",
    "        annotations.append({'label': label, 'boundingbox': bbox})\n",
    "    elif 'polygon' in obj:\n",
    "        polygon = np.array(obj['polygon'])\n",
    "        # Process polygon\n",
    "        # (e.g., convert to binary mask or pixel coordinates)\n",
    "        annotations.append({'label': label, 'polygon': polygon})\n",
    "\n",
    "# Combine image and annotations into a training sample\n",
    "training_samples.append({'image': image, 'annotations': annotations})"
   ]
  },
  {
   "cell_type": "code",
   "execution_count": 14,
   "id": "ed2c38c8",
   "metadata": {},
   "outputs": [
    {
     "data": {
      "text/plain": [
       "[{'image': array([[[197, 181, 165],\n",
       "          [197, 181, 165],\n",
       "          [196, 180, 164],\n",
       "          ...,\n",
       "          [169, 153, 124],\n",
       "          [169, 153, 124],\n",
       "          [169, 153, 124]],\n",
       "  \n",
       "         [[198, 182, 166],\n",
       "          [199, 183, 167],\n",
       "          [199, 183, 167],\n",
       "          ...,\n",
       "          [169, 153, 124],\n",
       "          [169, 153, 124],\n",
       "          [169, 153, 124]],\n",
       "  \n",
       "         [[199, 183, 167],\n",
       "          [200, 184, 168],\n",
       "          [201, 185, 169],\n",
       "          ...,\n",
       "          [169, 153, 124],\n",
       "          [169, 153, 124],\n",
       "          [169, 153, 124]],\n",
       "  \n",
       "         ...,\n",
       "  \n",
       "         [[ 22,  17,  18],\n",
       "          [ 22,  17,  18],\n",
       "          [ 22,  17,  18],\n",
       "          ...,\n",
       "          [ 32,  32,  32],\n",
       "          [ 32,  32,  32],\n",
       "          [ 32,  32,  32]],\n",
       "  \n",
       "         [[ 22,  17,  18],\n",
       "          [ 22,  17,  18],\n",
       "          [ 22,  17,  18],\n",
       "          ...,\n",
       "          [ 32,  32,  32],\n",
       "          [ 32,  32,  32],\n",
       "          [ 32,  32,  32]],\n",
       "  \n",
       "         [[ 22,  17,  18],\n",
       "          [ 22,  17,  18],\n",
       "          [ 22,  17,  18],\n",
       "          ...,\n",
       "          [ 32,  32,  32],\n",
       "          [ 32,  32,  32],\n",
       "          [ 32,  32,  32]]], dtype=uint8),\n",
       "  'annotations': [{'label': 'track-sign-front',\n",
       "    'boundingbox': array([1066,  571, 1077,  590])},\n",
       "   {'label': 'switch-unknown', 'boundingbox': array([1024,  599, 1052,  612])},\n",
       "   {'label': 'pole',\n",
       "    'polygon': array([[1066,  525],\n",
       "           [1066,  641],\n",
       "           [1067,  661],\n",
       "           [1083,  660],\n",
       "           [1079,  573],\n",
       "           [1076,  507],\n",
       "           [1065,  507]])},\n",
       "   {'label': 'pole',\n",
       "    'polygon': array([[1084,  527],\n",
       "           [1086,  601],\n",
       "           [1093,  601],\n",
       "           [1089,  520],\n",
       "           [1084,  520]])},\n",
       "   {'label': 'pole',\n",
       "    'polygon': array([[1106,  536],\n",
       "           [1106,  597],\n",
       "           [1113,  596],\n",
       "           [1110,  529],\n",
       "           [1105,  529]])},\n",
       "   {'label': 'pole',\n",
       "    'polygon': array([[1125,  535],\n",
       "           [1125,  591],\n",
       "           [1129,  590],\n",
       "           [1128,  534]])}]}]"
      ]
     },
     "execution_count": 14,
     "metadata": {},
     "output_type": "execute_result"
    }
   ],
   "source": []
  },
  {
   "cell_type": "code",
   "execution_count": null,
   "id": "a36e5c5e",
   "metadata": {},
   "outputs": [],
   "source": []
  }
 ],
 "metadata": {
  "kernelspec": {
   "display_name": "Python 3 (ipykernel)",
   "language": "python",
   "name": "python3"
  },
  "language_info": {
   "codemirror_mode": {
    "name": "ipython",
    "version": 3
   },
   "file_extension": ".py",
   "mimetype": "text/x-python",
   "name": "python",
   "nbconvert_exporter": "python",
   "pygments_lexer": "ipython3",
   "version": "3.9.13"
  }
 },
 "nbformat": 4,
 "nbformat_minor": 5
}
